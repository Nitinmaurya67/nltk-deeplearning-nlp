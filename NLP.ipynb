{
 "cells": [
  {
   "cell_type": "markdown",
   "id": "4bfd3716-f1a4-42ef-87df-a31deefd81ec",
   "metadata": {},
   "source": [
    "<div style=\"text-align: center;\">\n",
    "\n",
    "<h1 style=\"color:#FFB84C; font-family: 'Georgia', serif; font-size: 46px; font-weight: bold;\">\n",
    "NLP Preprocessing Essentials\n",
    "</h1>\n",
    "\n",
    "<h3 style=\"color:#B0C4DE; font-family: 'Trebuchet MS', sans-serif; font-size: 22px;\">\n",
    "Tokenization • Stop Words • Stemming\n",
    "</h3>\n",
    "\n",
    "</div>\n",
    "\n",
    "---\n",
    "\n",
    "<div style=\"height: 2px; background-color:#6CA6C1; margin: 20px 0;\"></div>\n",
    "\n",
    "<h2 style=\"color:#FFB84C; font-family: 'Georgia', serif;\">Word Tokenization</h2>\n",
    "<p style=\"color:#D3D3D3; font-family: Arial, sans-serif;\">\n",
    "Splitting text into individual words. Example:<br>\n",
    "<i>\"NLP is fun!\" → [\"NLP\", \"is\", \"fun\", \"!\"]</i>\n",
    "</p>\n",
    "\n",
    "---\n",
    "\n",
    "<div style=\"height: 2px; background-color:#6CA6C1; margin: 20px 0;\"></div>\n",
    "\n",
    "<h2 style=\"color:#FFB84C; font-family: 'Georgia', serif;\">Sentence Tokenization</h2>\n",
    "<p style=\"color:#D3D3D3; font-family: Arial, sans-serif;\">\n",
    "Dividing text into sentences. Example:<br>\n",
    "<i>\"I love NLP. It is powerful!\" → [\"I love NLP.\", \"It is powerful!\"]</i>\n",
    "</p>\n",
    "\n",
    "---\n",
    "\n",
    "<div style=\"height: 2px; background-color:#6CA6C1; margin: 20px 0;\"></div>\n",
    "\n",
    "<h2 style=\"color:#FFB84C; font-family: 'Georgia', serif;\">Stop Words</h2>\n",
    "<p style=\"color:#D3D3D3; font-family: Arial, sans-serif;\">\n",
    "Removing common words like <i>\"is\", \"the\", \"and\"</i> that carry little meaning.<br>\n",
    "Example:<br>\n",
    "<i>\"This is a good example\" → [\"This\", \"good\", \"example\"]</i>\n",
    "</p>\n",
    "\n",
    "---\n",
    "\n",
    "<div style=\"height: 2px; background-color:#6CA6C1; margin: 20px 0;\"></div>\n",
    "\n",
    "<h2 style=\"color:#FFB84C; font-family: 'Georgia', serif;\">Stemming</h2>\n",
    "<p style=\"color:#D3D3D3; font-family: Arial, sans-serif;\">\n",
    "Reducing words to their root form. Example:<br>\n",
    "<i>\"running\", \"runner\", \"ran\"</i> → <b>\"run\"</b>\n",
    "</p>\n"
   ]
  },
  {
   "cell_type": "code",
   "execution_count": 1,
   "id": "daef68d4-5102-40a3-bd96-1e33623cc3e5",
   "metadata": {},
   "outputs": [],
   "source": [
    "s = \"GeeksforGeeks is a great learning platform . It is one of the best for Computer Science students.\""
   ]
  },
  {
   "cell_type": "markdown",
   "id": "718042c4-18ef-4286-87e8-e08ed91df0c8",
   "metadata": {},
   "source": [
    "<div style=\"text-align: center;\">\n",
    "<h1 style=\"color:#FFB84C; font-family: 'Georgia', serif; font-size: 46px; font-weight: bold;\">\n",
    "Tokenization\n",
    "</h1>\n",
    "</div>"
   ]
  },
  {
   "cell_type": "code",
   "execution_count": 2,
   "id": "d85b1526-be17-4f21-9b69-f2d753c219b8",
   "metadata": {},
   "outputs": [],
   "source": [
    "from nltk.tokenize import word_tokenize , sent_tokenize "
   ]
  },
  {
   "cell_type": "code",
   "execution_count": 3,
   "id": "6439fee9-3bc8-44dd-9b0d-71b31ea209d4",
   "metadata": {},
   "outputs": [
    {
     "data": {
      "text/plain": [
       "['GeeksforGeeks',\n",
       " 'is',\n",
       " 'a',\n",
       " 'great',\n",
       " 'learning',\n",
       " 'platform',\n",
       " '.',\n",
       " 'It',\n",
       " 'is',\n",
       " 'one',\n",
       " 'of',\n",
       " 'the',\n",
       " 'best',\n",
       " 'for',\n",
       " 'Computer',\n",
       " 'Science',\n",
       " 'students',\n",
       " '.']"
      ]
     },
     "execution_count": 3,
     "metadata": {},
     "output_type": "execute_result"
    }
   ],
   "source": [
    "word_tokenize(s)"
   ]
  },
  {
   "cell_type": "code",
   "execution_count": 4,
   "id": "a3e0a8ea-7a87-4ace-b1e5-f60c01e94bec",
   "metadata": {},
   "outputs": [
    {
     "data": {
      "text/plain": [
       "['GeeksforGeeks is a great learning platform .',\n",
       " 'It is one of the best for Computer Science students.']"
      ]
     },
     "execution_count": 4,
     "metadata": {},
     "output_type": "execute_result"
    }
   ],
   "source": [
    "sent_tokenize(s)"
   ]
  },
  {
   "cell_type": "code",
   "execution_count": 5,
   "id": "4a113891-432d-4dd8-a283-4a83fed5619a",
   "metadata": {},
   "outputs": [],
   "source": [
    "from nltk import pos_tag"
   ]
  },
  {
   "cell_type": "code",
   "execution_count": 7,
   "id": "58623a03-6cba-49ff-9274-32bd55be6b89",
   "metadata": {},
   "outputs": [
    {
     "data": {
      "text/plain": [
       "[('GeeksforGeeks', 'NNP'),\n",
       " ('is', 'VBZ'),\n",
       " ('a', 'DT'),\n",
       " ('great', 'JJ'),\n",
       " ('learning', 'JJ'),\n",
       " ('platform', 'NN'),\n",
       " ('.', '.'),\n",
       " ('It', 'PRP'),\n",
       " ('is', 'VBZ'),\n",
       " ('one', 'CD'),\n",
       " ('of', 'IN'),\n",
       " ('the', 'DT'),\n",
       " ('best', 'JJS'),\n",
       " ('for', 'IN'),\n",
       " ('Computer', 'NNP'),\n",
       " ('Science', 'NNP'),\n",
       " ('students', 'NNS'),\n",
       " ('.', '.')]"
      ]
     },
     "execution_count": 7,
     "metadata": {},
     "output_type": "execute_result"
    }
   ],
   "source": [
    "pos_tag(word_tokenize(s))"
   ]
  },
  {
   "cell_type": "markdown",
   "id": "61bc1030-985b-4979-a36c-1fe14dd325c3",
   "metadata": {},
   "source": [
    "\n",
    "<div style=\"text-align: center;\">\n",
    "<h1 style=\"color:#FFB84C; font-family: 'Georgia', serif; font-size: 46px; font-weight: bold;\">\n",
    "Stop Words\n",
    "</h1>\n",
    "</div>"
   ]
  },
  {
   "cell_type": "code",
   "execution_count": 20,
   "id": "e8cb3ea4-e6f0-4dcd-8361-e64a591776c1",
   "metadata": {},
   "outputs": [],
   "source": [
    "from nltk.corpus import stopwords\n",
    "from string import punctuation"
   ]
  },
  {
   "cell_type": "code",
   "execution_count": 21,
   "id": "4ef87bc0-f73e-4a4d-9b6e-1cb57e12b848",
   "metadata": {},
   "outputs": [
    {
     "name": "stderr",
     "output_type": "stream",
     "text": [
      "[nltk_data] Downloading package stopwords to\n",
      "[nltk_data]     C:\\Users\\nitin\\AppData\\Roaming\\nltk_data...\n",
      "[nltk_data]   Package stopwords is already up-to-date!\n"
     ]
    },
    {
     "data": {
      "text/plain": [
       "True"
      ]
     },
     "execution_count": 21,
     "metadata": {},
     "output_type": "execute_result"
    }
   ],
   "source": [
    "import nltk\n",
    "nltk.download('stopwords')"
   ]
  },
  {
   "cell_type": "code",
   "execution_count": 22,
   "id": "845aa5e0-ecbc-41b9-a7d2-7bb6523be5a9",
   "metadata": {},
   "outputs": [],
   "source": [
    "stop =stopwords.words(\"english\")"
   ]
  },
  {
   "cell_type": "markdown",
   "id": "f3706bfe-cb81-4bc0-8b54-20cff9a70ffc",
   "metadata": {},
   "source": [
    "### punctuation : '!\"#$%&\\'()*+,-./:;<=>?@[\\\\]^_`{|}~'\n"
   ]
  },
  {
   "cell_type": "code",
   "execution_count": 25,
   "id": "925a1efe-8839-4021-8a0c-5a079f12f13b",
   "metadata": {},
   "outputs": [],
   "source": [
    "stop_words = list(punctuation) + stop"
   ]
  },
  {
   "cell_type": "code",
   "execution_count": 36,
   "id": "ebcd0bf7-3e17-48be-ba05-7d2505a0a434",
   "metadata": {},
   "outputs": [
    {
     "name": "stdout",
     "output_type": "stream",
     "text": [
      "GeeksforGeeks\n",
      "great\n",
      "learning\n",
      "platform\n",
      "It\n",
      "one\n",
      "best\n",
      "Computer\n",
      "Science\n",
      "students\n"
     ]
    }
   ],
   "source": [
    "for i in word_tokenize(s) :\n",
    "    if i not in stop_words:\n",
    "        print(i)"
   ]
  },
  {
   "cell_type": "markdown",
   "id": "4152e590-c4dc-4f34-b33a-0b43f238479e",
   "metadata": {},
   "source": [
    "<div style=\"text-align: center;\">\n",
    "\n",
    "<h1 style=\"color:#FFB84C; font-family: 'Georgia', serif; font-size: 46px; font-weight: bold;\">\n",
    "Stemming\n",
    "</h1>\n",
    "<h3 style=\"color:#B0C4DE; font-family: 'Trebuchet MS', sans-serif; font-size: 22px;\">\n",
    "Stemming in NLTK refers to the process of reducing words to their base or root form\n",
    "</h3>\n",
    "</div>\n"
   ]
  },
  {
   "cell_type": "code",
   "execution_count": null,
   "id": "31ce40f8-8f29-4453-8c38-d6c0b492080b",
   "metadata": {},
   "outputs": [],
   "source": []
  },
  {
   "cell_type": "code",
   "execution_count": null,
   "id": "8a967cc3-aabd-4230-8287-0ad913ebb692",
   "metadata": {},
   "outputs": [],
   "source": []
  }
 ],
 "metadata": {
  "kernelspec": {
   "display_name": "Python 3 (ipykernel)",
   "language": "python",
   "name": "python3"
  },
  "language_info": {
   "codemirror_mode": {
    "name": "ipython",
    "version": 3
   },
   "file_extension": ".py",
   "mimetype": "text/x-python",
   "name": "python",
   "nbconvert_exporter": "python",
   "pygments_lexer": "ipython3",
   "version": "3.13.1"
  }
 },
 "nbformat": 4,
 "nbformat_minor": 5
}
