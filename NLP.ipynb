{
 "cells": [
  {
   "cell_type": "markdown",
   "id": "4bfd3716-f1a4-42ef-87df-a31deefd81ec",
   "metadata": {},
   "source": [
    "<div style=\"text-align: center;\">\n",
    "\n",
    "<h1 style=\"color:#FFB84C; font-family: 'Georgia', serif; font-size: 46px; font-weight: bold;\">\n",
    "NLP Preprocessing Essentials\n",
    "</h1>\n",
    "\n",
    "<h3 style=\"color:#B0C4DE; font-family: 'Trebuchet MS', sans-serif; font-size: 22px;\">\n",
    "Tokenization • Stop Words • Stemming\n",
    "</h3>\n",
    "\n",
    "</div>\n",
    "\n",
    "---\n",
    "\n",
    "<div style=\"height: 2px; background-color:#6CA6C1; margin: 20px 0;\"></div>\n",
    "\n",
    "<h2 style=\"color:#FFB84C; font-family: 'Georgia', serif;\">Word Tokenization</h2>\n",
    "<p style=\" font-family: Arial, sans-serif;\">\n",
    "Splitting text into individual words. Example:<br>\n",
    "<i>\"NLP is fun!\" → [\"NLP\", \"is\", \"fun\", \"!\"]</i>\n",
    "</p>\n",
    "\n",
    "---\n",
    "\n",
    "<div style=\"height: 2px; background-color:#6CA6C1; margin: 20px 0;\"></div>\n",
    "\n",
    "<h2 style=\"color:#FFB84C; font-family: 'Georgia', serif;\">Sentence Tokenization</h2>\n",
    "<p style=\" font-family: Arial, sans-serif;\">\n",
    "Dividing text into sentences. Example:<br>\n",
    "<i>\"I love NLP. It is powerful!\" → [\"I love NLP.\", \"It is powerful!\"]</i>\n",
    "</p>\n",
    "\n",
    "---\n",
    "\n",
    "<div style=\"height: 2px; background-color:#6CA6C1; margin: 20px 0;\"></div>\n",
    "\n",
    "<h2 style=\"color:#FFB84C; font-family: 'Georgia', serif;\">Stop Words</h2>\n",
    "<p style=\" font-family: Arial, sans-serif;\">\n",
    "Removing common words like <i>\"is\", \"the\", \"and\"</i> that carry little meaning.<br>\n",
    "Example:<br>\n",
    "<i>\"This is a good example\" → [\"This\", \"good\", \"example\"]</i>\n",
    "</p>\n",
    "\n",
    "---\n",
    "\n",
    "<div style=\"height: 2px; background-color:#6CA6C1; margin: 20px 0;\"></div>\n",
    "\n",
    "<h2 style=\"color:#FFB84C; font-family: 'Georgia', serif;\">Stemming</h2>\n",
    "<p style=\" font-family: Arial, sans-serif;\">\n",
    "Reducing words to their root form. Example:<br>\n",
    "<i>\"running\", \"runner\", \"ran\"</i> → <b>\"run\"</b>\n",
    "</p>\n",
    "\n",
    "---\n",
    "\n",
    "<div style=\"height: 2px; background-color:#6CA6C1; margin: 20px 0;\"></div>\n",
    "\n",
    "<h2 style=\"color:#FFB84C; font-family: 'Georgia', serif;\">Lemmatization </h2>\n",
    "<p style=\" font-family: Arial, sans-serif;\">\n",
    "Lemmatization reduces words to their base or dictionary form, considering meaning and context. Example:<br>\n",
    "<i>\"mice\"</i> → <b>\"mouse\"</b>\n",
    "</p>\n",
    "\n",
    "\n"
   ]
  },
  {
   "cell_type": "code",
   "execution_count": 1,
   "id": "daef68d4-5102-40a3-bd96-1e33623cc3e5",
   "metadata": {},
   "outputs": [],
   "source": [
    "s = \"GeeksforGeeks is a great learning platform . It is one of the best for Computer Science students.\""
   ]
  },
  {
   "cell_type": "markdown",
   "id": "718042c4-18ef-4286-87e8-e08ed91df0c8",
   "metadata": {},
   "source": [
    "<div style=\"text-align: center;\">\n",
    "<h1 style=\"color:#FFB84C; font-family: 'Georgia', serif; font-size: 46px; font-weight: bold;\">\n",
    "Tokenization\n",
    "</h1>\n",
    "</div>"
   ]
  },
  {
   "cell_type": "code",
   "execution_count": 2,
   "id": "d85b1526-be17-4f21-9b69-f2d753c219b8",
   "metadata": {},
   "outputs": [],
   "source": [
    "from nltk.tokenize import word_tokenize , sent_tokenize "
   ]
  },
  {
   "cell_type": "code",
   "execution_count": 3,
   "id": "6439fee9-3bc8-44dd-9b0d-71b31ea209d4",
   "metadata": {},
   "outputs": [
    {
     "data": {
      "text/plain": [
       "['GeeksforGeeks',\n",
       " 'is',\n",
       " 'a',\n",
       " 'great',\n",
       " 'learning',\n",
       " 'platform',\n",
       " '.',\n",
       " 'It',\n",
       " 'is',\n",
       " 'one',\n",
       " 'of',\n",
       " 'the',\n",
       " 'best',\n",
       " 'for',\n",
       " 'Computer',\n",
       " 'Science',\n",
       " 'students',\n",
       " '.']"
      ]
     },
     "execution_count": 3,
     "metadata": {},
     "output_type": "execute_result"
    }
   ],
   "source": [
    "word_tokenize(s)"
   ]
  },
  {
   "cell_type": "code",
   "execution_count": 4,
   "id": "a3e0a8ea-7a87-4ace-b1e5-f60c01e94bec",
   "metadata": {},
   "outputs": [
    {
     "data": {
      "text/plain": [
       "['GeeksforGeeks is a great learning platform .',\n",
       " 'It is one of the best for Computer Science students.']"
      ]
     },
     "execution_count": 4,
     "metadata": {},
     "output_type": "execute_result"
    }
   ],
   "source": [
    "sent_tokenize(s)"
   ]
  },
  {
   "cell_type": "code",
   "execution_count": 5,
   "id": "4a113891-432d-4dd8-a283-4a83fed5619a",
   "metadata": {},
   "outputs": [],
   "source": [
    "from nltk import pos_tag"
   ]
  },
  {
   "cell_type": "code",
   "execution_count": 7,
   "id": "58623a03-6cba-49ff-9274-32bd55be6b89",
   "metadata": {},
   "outputs": [
    {
     "data": {
      "text/plain": [
       "[('GeeksforGeeks', 'NNP'),\n",
       " ('is', 'VBZ'),\n",
       " ('a', 'DT'),\n",
       " ('great', 'JJ'),\n",
       " ('learning', 'JJ'),\n",
       " ('platform', 'NN'),\n",
       " ('.', '.'),\n",
       " ('It', 'PRP'),\n",
       " ('is', 'VBZ'),\n",
       " ('one', 'CD'),\n",
       " ('of', 'IN'),\n",
       " ('the', 'DT'),\n",
       " ('best', 'JJS'),\n",
       " ('for', 'IN'),\n",
       " ('Computer', 'NNP'),\n",
       " ('Science', 'NNP'),\n",
       " ('students', 'NNS'),\n",
       " ('.', '.')]"
      ]
     },
     "execution_count": 7,
     "metadata": {},
     "output_type": "execute_result"
    }
   ],
   "source": [
    "pos_tag(word_tokenize(s))"
   ]
  },
  {
   "cell_type": "markdown",
   "id": "61bc1030-985b-4979-a36c-1fe14dd325c3",
   "metadata": {},
   "source": [
    "\n",
    "<div style=\"text-align: center;\">\n",
    "<h1 style=\"color:#FFB84C; font-family: 'Georgia', serif; font-size: 46px; font-weight: bold;\">\n",
    "Stop Words\n",
    "</h1>\n",
    "</div>"
   ]
  },
  {
   "cell_type": "code",
   "execution_count": 20,
   "id": "e8cb3ea4-e6f0-4dcd-8361-e64a591776c1",
   "metadata": {},
   "outputs": [],
   "source": [
    "from nltk.corpus import stopwords\n",
    "from string import punctuation"
   ]
  },
  {
   "cell_type": "code",
   "execution_count": 21,
   "id": "4ef87bc0-f73e-4a4d-9b6e-1cb57e12b848",
   "metadata": {},
   "outputs": [
    {
     "name": "stderr",
     "output_type": "stream",
     "text": [
      "[nltk_data] Downloading package stopwords to\n",
      "[nltk_data]     C:\\Users\\nitin\\AppData\\Roaming\\nltk_data...\n",
      "[nltk_data]   Package stopwords is already up-to-date!\n"
     ]
    },
    {
     "data": {
      "text/plain": [
       "True"
      ]
     },
     "execution_count": 21,
     "metadata": {},
     "output_type": "execute_result"
    }
   ],
   "source": [
    "import nltk\n",
    "nltk.download('stopwords')"
   ]
  },
  {
   "cell_type": "code",
   "execution_count": 22,
   "id": "845aa5e0-ecbc-41b9-a7d2-7bb6523be5a9",
   "metadata": {},
   "outputs": [],
   "source": [
    "stop =stopwords.words(\"english\")"
   ]
  },
  {
   "cell_type": "markdown",
   "id": "f3706bfe-cb81-4bc0-8b54-20cff9a70ffc",
   "metadata": {},
   "source": [
    "### punctuation : '!\"#$%&\\'()*+,-./:;<=>?@[\\\\]^_`{|}~'\n"
   ]
  },
  {
   "cell_type": "code",
   "execution_count": 25,
   "id": "925a1efe-8839-4021-8a0c-5a079f12f13b",
   "metadata": {},
   "outputs": [],
   "source": [
    "stop_words = list(punctuation) + stop"
   ]
  },
  {
   "cell_type": "code",
   "execution_count": 36,
   "id": "ebcd0bf7-3e17-48be-ba05-7d2505a0a434",
   "metadata": {},
   "outputs": [
    {
     "name": "stdout",
     "output_type": "stream",
     "text": [
      "GeeksforGeeks\n",
      "great\n",
      "learning\n",
      "platform\n",
      "It\n",
      "one\n",
      "best\n",
      "Computer\n",
      "Science\n",
      "students\n"
     ]
    }
   ],
   "source": [
    "for i in word_tokenize(s) :\n",
    "    if i not in stop_words:\n",
    "        print(i)"
   ]
  },
  {
   "cell_type": "markdown",
   "id": "4152e590-c4dc-4f34-b33a-0b43f238479e",
   "metadata": {},
   "source": [
    "<div style=\"text-align: center;\">\n",
    "\n",
    "<h1 style=\"color:#FFB84C; font-family: 'Georgia', serif; font-size: 40px; font-weight: bold;\">\n",
    "Stemming\n",
    "</h1>\n",
    "\n",
    "<h3 style=\"color:#B0C4DE; font-family: 'Trebuchet MS', sans-serif; font-size: 22px;\">\n",
    "Stemming in NLTK refers to the process of reducing words to their base or root form.\n",
    "</h3>\n",
    "\n",
    "</div>\n",
    "\n",
    "---\n",
    "\n",
    "## 🌟 Types of Stemmers in NLTK\n",
    "\n",
    "NLTK provides several algorithms for stemming. Here are the most popular ones:\n",
    "\n",
    "| Stemmer | Description |\n",
    "|---------|-------------|\n",
    "| **Porter Stemmer** | One of the oldest and most widely used stemming algorithms. Good for English words. |\n",
    "| **Lancaster Stemmer** | More aggressive than Porter; may produce shorter stems. |\n",
    "| **Snowball Stemmer** | An improved version of Porter Stemmer with support for multiple languages. |\n",
    "| **Regexp Stemmer** | Allows you to define custom regular expressions for stemming. |\n",
    "\n"
   ]
  },
  {
   "cell_type": "code",
   "execution_count": 40,
   "id": "31ce40f8-8f29-4453-8c38-d6c0b492080b",
   "metadata": {},
   "outputs": [],
   "source": [
    "from nltk.stem import LancasterStemmer , RegexpStemmer , PorterStemmer ,SnowballStemmer"
   ]
  },
  {
   "cell_type": "code",
   "execution_count": 59,
   "id": "8a967cc3-aabd-4230-8287-0ad913ebb692",
   "metadata": {},
   "outputs": [],
   "source": [
    "l = LancasterStemmer()\n",
    "r = RegexpStemmer('ing')\n",
    "p = PorterStemmer()\n",
    "s = SnowballStemmer('english')"
   ]
  },
  {
   "cell_type": "code",
   "execution_count": 54,
   "id": "2bcbd3bc-b54f-4437-afe3-b338bd3538c0",
   "metadata": {},
   "outputs": [
    {
     "data": {
      "text/plain": [
       "'lowest'"
      ]
     },
     "execution_count": 54,
     "metadata": {},
     "output_type": "execute_result"
    }
   ],
   "source": [
    "l.stem(\"changing\")"
   ]
  },
  {
   "cell_type": "code",
   "execution_count": 63,
   "id": "cdc83b3b-bcb1-4d32-b028-fc4009e4d745",
   "metadata": {},
   "outputs": [
    {
     "data": {
      "text/plain": [
       "'chang'"
      ]
     },
     "execution_count": 63,
     "metadata": {},
     "output_type": "execute_result"
    }
   ],
   "source": [
    "r.stem(\"changing\")"
   ]
  },
  {
   "cell_type": "code",
   "execution_count": 61,
   "id": "b95016a5-397d-43bb-ad1e-ad7680281d6e",
   "metadata": {},
   "outputs": [
    {
     "data": {
      "text/plain": [
       "'chang'"
      ]
     },
     "execution_count": 61,
     "metadata": {},
     "output_type": "execute_result"
    }
   ],
   "source": [
    "p.stem(\"changes\")"
   ]
  },
  {
   "cell_type": "code",
   "execution_count": 60,
   "id": "faab9283-1917-42c2-8302-caa78f961ea7",
   "metadata": {},
   "outputs": [
    {
     "data": {
      "text/plain": [
       "'chang'"
      ]
     },
     "execution_count": 60,
     "metadata": {},
     "output_type": "execute_result"
    }
   ],
   "source": [
    "s.stem(\"changed\")"
   ]
  },
  {
   "cell_type": "markdown",
   "id": "c8b5879a-8615-492a-9ab3-848ccdce7140",
   "metadata": {},
   "source": [
    "<div style=\"text-align: center;\">\n",
    "\n",
    "<h1 style=\"color:#FFB84C; font-family: 'Georgia', serif; font-size: 40px; font-weight: bold;\">\n",
    "Lemmatization\n",
    "</h1>\n",
    "\n",
    "<h3 style=\"color:#B0C4DE; font-family: 'Trebuchet MS', sans-serif; font-size: 22px;\">\n",
    "Lemmatization reduces words to their base or dictionary form, considering meaning and context.\n",
    "</h3>\n",
    "\n",
    "</div>\n",
    "\n",
    "---\n",
    "\n",
    "## WordNet Lemmatizer\n",
    "\n",
    "NLTK uses the **WordNet Lemmatizer** to find the base form of words.  \n",
    "It handles irregular forms and considers the context when needed.\n",
    "\n",
    "- **Example:** \"mice\" → \"mouse\", \"better\" → \"good\", \"flies\" → \"fly\"\n",
    "\n",
    "---\n",
    "\n",
    "## 📝 Difference Between Stemming and Lemmatization\n",
    "\n",
    "| Feature | Stemming | Lemmatization |\n",
    "|---------|----------|---------------|\n",
    "| **Definition** | Cuts words to their root form. | Converts words to their base/dictionary form using meaning. |\n",
    "| **Accuracy** | Less accurate; may not be real words. | More accurate; always valid words. |\n",
    "| **Example** | \"running\" → \"run\", \"flies\" → \"fli\" | \"mice\" → \"mouse\", \"better\" → \"good\" |\n",
    "| **Speed** | Faster | Slower |\n",
    "| **Use** | Quick preprocessing. | When meaning matters in NLP tasks. |\n"
   ]
  },
  {
   "cell_type": "code",
   "execution_count": 64,
   "id": "b4249565-cf90-4234-8955-d4158de5e3d0",
   "metadata": {},
   "outputs": [],
   "source": [
    "from nltk.stem import WordNetLemmatizer"
   ]
  },
  {
   "cell_type": "code",
   "execution_count": 66,
   "id": "106df68a-2d5f-4e07-a8ed-f7301fc47abb",
   "metadata": {},
   "outputs": [
    {
     "name": "stderr",
     "output_type": "stream",
     "text": [
      "[nltk_data] Downloading package wordnet to\n",
      "[nltk_data]     C:\\Users\\nitin\\AppData\\Roaming\\nltk_data...\n"
     ]
    },
    {
     "data": {
      "text/plain": [
       "True"
      ]
     },
     "execution_count": 66,
     "metadata": {},
     "output_type": "execute_result"
    }
   ],
   "source": [
    "import nltk\n",
    "nltk.download('wordnet')"
   ]
  },
  {
   "cell_type": "code",
   "execution_count": 79,
   "id": "e2d04cda-6528-4085-979f-98d9f6482ffa",
   "metadata": {},
   "outputs": [
    {
     "data": {
      "text/plain": [
       "'mouse'"
      ]
     },
     "execution_count": 79,
     "metadata": {},
     "output_type": "execute_result"
    }
   ],
   "source": [
    "wl = WordNetLemmatizer()\n",
    "wl.lemmatize(\"mice\")"
   ]
  },
  {
   "cell_type": "code",
   "execution_count": null,
   "id": "ceed3350-210f-4095-bcd1-1de3de9e0964",
   "metadata": {},
   "outputs": [],
   "source": []
  }
 ],
 "metadata": {
  "kernelspec": {
   "display_name": "Python 3 (ipykernel)",
   "language": "python",
   "name": "python3"
  },
  "language_info": {
   "codemirror_mode": {
    "name": "ipython",
    "version": 3
   },
   "file_extension": ".py",
   "mimetype": "text/x-python",
   "name": "python",
   "nbconvert_exporter": "python",
   "pygments_lexer": "ipython3",
   "version": "3.13.1"
  }
 },
 "nbformat": 4,
 "nbformat_minor": 5
}
